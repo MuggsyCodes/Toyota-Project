{
 "cells": [
  {
   "cell_type": "code",
   "execution_count": 5,
   "metadata": {},
   "outputs": [],
   "source": [
    "# the purpose of this script is to\n",
    "# * collect GPS data in the form of NMEA strings\n",
    "# * parse those strings and store them in a dictionary for later \n",
    "# * the test code uses a fixed list to demonstrate capability of parsing and dictionary addition\n",
    "\n",
    "\n",
    "import serial\n",
    "import pandas as pd\n",
    "\n",
    "#gps_psuedo_data will generate a list of values just like actual hardware will spit out ... except much less total overall data\n",
    "def gps_psuedo_data():\n",
    "    serial_list = ['', 'Trigger value = 3.23\\r\\n', '', 'Time: HourMinuteSecond = 195813\\r\\n', 'Date: DayMonthYear = 322021\\r\\n', '13\\r\\n', 'TIME: 135813\\r\\n', 'DATE: 03-02-2021\\r\\n', 'Speed (MPH)=0.000000\\r\\n', 'Trigger value = 3.24\\r\\n', '', 'Time: HourMinuteSecond = 195815\\r\\n', 'Date: DayMonthYear = 322021\\r\\n', '15\\r\\n', 'TIME: 135815\\r\\n', 'DATE: 03-02-2021\\r\\n', 'Speed (MPH)=0.000000\\r\\n', 'Trigger value = 3.24\\r\\n', '', 'Time: HourMinuteSecond = 195817\\r\\n', 'Date: DayMonthYear = 322021\\r\\n']\n",
    "    empty_list = []\n",
    "    for item in serial_list:\n",
    "        empty_list.append(item) #add item on to empty list\n",
    "    serial_list = serial_list + empty_list #ddd the two lists together and update serial_list\n",
    "    #print(empty_list)\n",
    "    #print(f\"serial_list: \\n {serial_list}\")\n",
    "    return serial_list\n",
    "\n",
    "#gps_string_parse is a function to parse NMEA string and place values in dictionary based on a key\n",
    "def gps_string_parse():\n",
    "    keys_list = [\"Speed\", \"Trigger value\", \"Time\", \"Date\"]\n",
    "    \n",
    "    serial_dictionary = {\n",
    "        \"Speed\" : [],\n",
    "        \"Trigger value\" : [],\n",
    "        \"Time\" : [],\n",
    "        \"Date\" : [],\n",
    "    } # end serial dictionary\n",
    "    \n",
    "    psuedo_list_data = gps_psuedo_data() #give me serial list\n",
    "    \n",
    "    for key in keys_list:\n",
    "        for item in psuedo_list_data: #item is NMEA string output\n",
    "            if key in item:\n",
    "                print(f\"There's a match between NMEA string and {key} in the dictionary\")\n",
    "                value = float(item.split(\"=\")[1])\n",
    "                print(f\"{key} has value of {value}\")\n",
    "                serial_dictionary[key].append(value) #add additional list values to my dictionary based on one specific key \n",
    "    print(f\"Dictionary with updated values: \\n {serial_dictionary}\")\n"
   ]
  },
  {
   "cell_type": "code",
   "execution_count": 4,
   "metadata": {},
   "outputs": [
    {
     "name": "stdout",
     "output_type": "stream",
     "text": [
      "There's a match between NMEA string and Speed in the dictionary\n",
      "Speed has value of 0.0\n",
      "There's a match between NMEA string and Speed in the dictionary\n",
      "Speed has value of 0.0\n",
      "There's a match between NMEA string and Speed in the dictionary\n",
      "Speed has value of 0.0\n",
      "There's a match between NMEA string and Speed in the dictionary\n",
      "Speed has value of 0.0\n",
      "There's a match between NMEA string and Trigger value in the dictionary\n",
      "Trigger value has value of 3.23\n",
      "There's a match between NMEA string and Trigger value in the dictionary\n",
      "Trigger value has value of 3.24\n",
      "There's a match between NMEA string and Trigger value in the dictionary\n",
      "Trigger value has value of 3.24\n",
      "There's a match between NMEA string and Trigger value in the dictionary\n",
      "Trigger value has value of 3.23\n",
      "There's a match between NMEA string and Trigger value in the dictionary\n",
      "Trigger value has value of 3.24\n",
      "There's a match between NMEA string and Trigger value in the dictionary\n",
      "Trigger value has value of 3.24\n",
      "There's a match between NMEA string and Time in the dictionary\n",
      "Time has value of 195813.0\n",
      "There's a match between NMEA string and Time in the dictionary\n",
      "Time has value of 195815.0\n",
      "There's a match between NMEA string and Time in the dictionary\n",
      "Time has value of 195817.0\n",
      "There's a match between NMEA string and Time in the dictionary\n",
      "Time has value of 195813.0\n",
      "There's a match between NMEA string and Time in the dictionary\n",
      "Time has value of 195815.0\n",
      "There's a match between NMEA string and Time in the dictionary\n",
      "Time has value of 195817.0\n",
      "There's a match between NMEA string and Date in the dictionary\n",
      "Date has value of 322021.0\n",
      "There's a match between NMEA string and Date in the dictionary\n",
      "Date has value of 322021.0\n",
      "There's a match between NMEA string and Date in the dictionary\n",
      "Date has value of 322021.0\n",
      "There's a match between NMEA string and Date in the dictionary\n",
      "Date has value of 322021.0\n",
      "There's a match between NMEA string and Date in the dictionary\n",
      "Date has value of 322021.0\n",
      "There's a match between NMEA string and Date in the dictionary\n",
      "Date has value of 322021.0\n",
      "Dictionary with updated values \n",
      " {'Speed': [0.0, 0.0, 0.0, 0.0], 'Trigger value': [3.23, 3.24, 3.24, 3.23, 3.24, 3.24], 'Time': [195813.0, 195815.0, 195817.0, 195813.0, 195815.0, 195817.0], 'Date': [322021.0, 322021.0, 322021.0, 322021.0, 322021.0, 322021.0]}\n"
     ]
    }
   ],
   "source": [
    "#function to parse NMEA string and put values in dictionary\n",
    "gps_string_parse()"
   ]
  }
 ],
 "metadata": {
  "kernelspec": {
   "display_name": "Python 3",
   "language": "python",
   "name": "python3"
  },
  "language_info": {
   "codemirror_mode": {
    "name": "ipython",
    "version": 3
   },
   "file_extension": ".py",
   "mimetype": "text/x-python",
   "name": "python",
   "nbconvert_exporter": "python",
   "pygments_lexer": "ipython3",
   "version": "3.8.5"
  }
 },
 "nbformat": 4,
 "nbformat_minor": 4
}
